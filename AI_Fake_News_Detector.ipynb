{
  "nbformat": 4,
  "nbformat_minor": 0,
  "metadata": {
    "colab": {
      "provenance": [],
      "authorship_tag": "ABX9TyP7dAvUVrKuwj11v3R8MGDr",
      "include_colab_link": true
    },
    "kernelspec": {
      "name": "python3",
      "display_name": "Python 3"
    },
    "language_info": {
      "name": "python"
    }
  },
  "cells": [
    {
      "cell_type": "markdown",
      "metadata": {
        "id": "view-in-github",
        "colab_type": "text"
      },
      "source": [
        "<a href=\"https://colab.research.google.com/github/kacioidarlan/FakeNewsDetector/blob/main/AI_Fake_News_Detector.ipynb\" target=\"_parent\"><img src=\"https://colab.research.google.com/assets/colab-badge.svg\" alt=\"Open In Colab\"/></a>"
      ]
    },
    {
      "cell_type": "code",
      "source": [
        "# Install Google SDK\n",
        "!pip install -q -U google-generativeai"
      ],
      "metadata": {
        "id": "cepgAiWmPaks"
      },
      "execution_count": 1,
      "outputs": []
    },
    {
      "cell_type": "code",
      "source": [
        "# Import the Python SDK\n",
        "import google.generativeai as genai\n",
        "from google.colab import userdata\n",
        "\n",
        "gemini_api_key = userdata.get('gemini_api_key')\n",
        "genai.configure(api_key=gemini_api_key)"
      ],
      "metadata": {
        "id": "mtLBNzYqQjrH"
      },
      "execution_count": 3,
      "outputs": []
    },
    {
      "cell_type": "code",
      "source": [
        "# Preparando configurações do modelo, mas senão for passado a API tem um padrão para todos os parâmetros.\n",
        "\n",
        "generation_config = {\n",
        "    'candidate_count': 1,\n",
        "    'temperature': 0.5,\n",
        "}\n",
        "\n",
        "safety_settings = {\n",
        "    'HARASSMENT': 'BLOCK_NONE',\n",
        "    'HATE': 'BLOCK_NONE',\n",
        "    'SEXUAL': 'BLOCK_NONE',\n",
        "    'DANGEROUS': 'BLOCK_NONE',\n",
        "}"
      ],
      "metadata": {
        "id": "N0RMJ6m4QplY"
      },
      "execution_count": 4,
      "outputs": []
    },
    {
      "cell_type": "code",
      "source": [
        "# Inicializando o modelo\n",
        "model =genai.GenerativeModel(model_name='gemini-1.5-pro-latest',\n",
        "                             generation_config=generation_config,\n",
        "                             safety_settings=safety_settings)"
      ],
      "metadata": {
        "id": "An6qWfqqRKrt"
      },
      "execution_count": 19,
      "outputs": []
    },
    {
      "cell_type": "code",
      "source": [
        "# Criaçao do Agente de Verificação de Fatos\n",
        "# Possibilidades futuras:\n",
        "# adicionar pesquisa do Google para agregar e para casos específicos,\n",
        "# adicionar documentos para usar como RAG, por exemplo artigos científicos sovre determinada especialidade, por exemplo as vanicas de CODIV 19\n",
        "\n",
        "class AgenteVerificacaoFatos:\n",
        "    def __init__(self, model):\n",
        "        self.model = model\n",
        "\n",
        "    def verificar_fatos(self, noticia):\n",
        "        prompt = f\"\"\"\n",
        "        Você é um especialista em verificação de fatos.\n",
        "        Analise as informações na seguinte notícia e verifique sua veracidade consultando fontes confiáveis:\n",
        "\n",
        "        \"{noticia}\"\n",
        "\n",
        "        Responda com:\n",
        "        - \"VERDADEIRO\" se a notícia for factualmente correta.\n",
        "        - \"FALSO\" se a notícia contiver informações falsas.\n",
        "        - \"INCONCLUSIVO\" se não for possível determinar a veracidade.\n",
        "\n",
        "        Apresente as evidências encontradas e os links para as fontes que sustentam sua conclusão.\n",
        "        \"\"\"\n",
        "        response = self.model.generate_content(prompt)\n",
        "        return response.text"
      ],
      "metadata": {
        "id": "v-LSwB4rRY4h"
      },
      "execution_count": 22,
      "outputs": []
    },
    {
      "cell_type": "code",
      "source": [
        "# Criação do Agente de Deteccao Tendencias normalmente utilizadas em fake news\n",
        "class AgenteDeteccaoTendencias:\n",
        "    def __init__(self, model):\n",
        "        self.model = model\n",
        "\n",
        "    def detectar_tendencias(self, noticia):\n",
        "        prompt = f\"\"\"\n",
        "        Você é um especialista em identificar tendências de desinformação.\n",
        "        Analise a seguinte notícia:\n",
        "\n",
        "        \"{noticia}\"\n",
        "\n",
        "        Indique se a notícia apresenta características de:\n",
        "        - Clickbait\n",
        "        - Sensacionalismo\n",
        "        - Teorias da conspiração\n",
        "        - Propaganda política\n",
        "        - Outras tendências comuns de fake news\n",
        "\n",
        "        Apresente exemplos específicos da notícia que justifiquem sua análise.\n",
        "        \"\"\"\n",
        "        response = self.model.generate_content(prompt)\n",
        "        return response.text"
      ],
      "metadata": {
        "id": "twautn2URqLj"
      },
      "execution_count": 14,
      "outputs": []
    },
    {
      "cell_type": "code",
      "execution_count": 15,
      "metadata": {
        "id": "1il41xIMPTEc"
      },
      "outputs": [],
      "source": [
        "# Criação do Agende de Análise de Sentimento\n",
        "class AgenteAnaliseSentimento:\n",
        "    def __init__(self, model):\n",
        "        self.model = model\n",
        "\n",
        "    def analisar_sentimento(self, noticia):\n",
        "        prompt = f\"\"\"\n",
        "        Você é um especialista em análise de sentimentos em textos.\n",
        "        Analise a linguagem utilizada na seguinte notícia:\n",
        "\n",
        "        \"{noticia}\"\n",
        "\n",
        "        O tom da notícia é:\n",
        "        - Neutro e objetivo\n",
        "        - Positivo e otimista\n",
        "        - Negativo e pessimista\n",
        "        - Alarmista e sensacionalista\n",
        "        - Outro (especifique)\n",
        "\n",
        "        Justifique sua resposta com exemplos da notícia.\n",
        "        \"\"\"\n",
        "        response = self.model.generate_content(prompt)\n",
        "        return response.text"
      ]
    },
    {
      "cell_type": "code",
      "source": [
        "# Criação do Agente que irá fazer a conclusão\n",
        "class AgenteAnaliseFinal:\n",
        "    def analisar(self, respostas_agentes):\n",
        "        prompt = f\"\"\"\n",
        "        Você é um juiz responsável por determinar se uma notícia é confiável ou não.\n",
        "        Analise os seguintes relatórios de especialistas:\n",
        "\n",
        "        Verificação de Fatos:\n",
        "        {respostas_agentes['verificacao']}\n",
        "\n",
        "        Detecção de Tendências:\n",
        "        {respostas_agentes['tendencias']}\n",
        "\n",
        "        Análise de Sentimento:\n",
        "        {respostas_agentes['sentimento']}\n",
        "\n",
        "        Com base nessas informações, a notícia é:\n",
        "        - Confiável\n",
        "        - Suspeita\n",
        "        - Falsa\n",
        "        - Inconclusivo\n",
        "\n",
        "        Justifique sua decisão.\n",
        "        \"\"\"\n",
        "        response = model.generate_content(prompt)\n",
        "        classificacao = response.text\n",
        "        return classificacao"
      ],
      "metadata": {
        "id": "0zEU7pRXR2Iz"
      },
      "execution_count": 16,
      "outputs": []
    },
    {
      "cell_type": "code",
      "source": [
        "# Instanciar os agentes\n",
        "agente_verificacao = AgenteVerificacaoFatos(model)\n",
        "agente_tendencias = AgenteDeteccaoTendencias(model)\n",
        "agente_sentimento = AgenteAnaliseSentimento(model)\n",
        "agente_final = AgenteAnaliseFinal()"
      ],
      "metadata": {
        "id": "G5wviNJFSZoF"
      },
      "execution_count": 17,
      "outputs": []
    },
    {
      "cell_type": "markdown",
      "source": [
        "**Notícia de teste:**\n",
        "Mensagem circula nas redes sociais\n",
        "“ATENÇÃO!!! Assim que a água voltar não tome, não dê para as crianças, não use para cozinhar, pois infelizmente o Guaíba está cheio de corpos e restos cadavéricos, é indicado que espere no mínimo de 15 a 20 dias para fazer o consumo da água, mesmo a água passando pelo tratamento ocorre um grande risco de contaminação. REPASSEM A MENSAGEM!!!”\n"
      ],
      "metadata": {
        "id": "2PQF3fdthsVN"
      }
    },
    {
      "cell_type": "code",
      "source": [
        "# Orquestração do Fluxo\n",
        "noticia = input(\"Digite a notícia: \")\n",
        "\n",
        "resposta_verificacao = agente_verificacao.verificar_fatos(noticia)\n",
        "resposta_tendencias = agente_tendencias.detectar_tendencias(noticia)\n",
        "resposta_sentimento = agente_sentimento.analisar_sentimento(noticia)\n",
        "\n",
        "respostas_agentes = {\n",
        "    \"verificacao\": resposta_verificacao,\n",
        "    \"tendencias\": resposta_tendencias,\n",
        "    \"sentimento\": resposta_sentimento,\n",
        "}\n",
        "\n",
        "classificacao_final = agente_final.analisar(respostas_agentes)\n",
        "\n",
        "print(f\"Classificação Final: {classificacao_final}\")"
      ],
      "metadata": {
        "colab": {
          "base_uri": "https://localhost:8080/",
          "height": 349
        },
        "id": "mRuXkg0oR6j5",
        "outputId": "84d326d7-a112-4a65-e230-9aa308fc59e0"
      },
      "execution_count": 21,
      "outputs": [
        {
          "output_type": "stream",
          "name": "stdout",
          "text": [
            "Digite a notícia: Mensagem circula nas redes sociais “ATENÇÃO!!! Assim que a água voltar não tome, não dê para as crianças, não use para cozinhar, pois infelizmente o Guaíba está cheio de corpos e restos cadavéricos, é indicado que espere no mínimo de 15 a 20 dias para fazer o consumo da água, mesmo a água passando pelo tratamento ocorre um grande risco de contaminação. REPASSEM A MENSAGEM!!!”\n",
            "Classificação Final: Com base nas informações fornecidas, a notícia é **FALSA**. \n",
            "\n",
            "**Justificativa:**\n",
            "\n",
            "1. **Verificação de fatos:** Diversas fontes confiáveis, incluindo o site oficial da CORSAN, o Ministério da Saúde e a OMS, afirmam que a água tratada é segura para consumo humano. A alegação de contaminação por corpos e restos cadavéricos no Guaíba não possui qualquer evidência ou fonte confiável.\n",
            "\n",
            "2. **Detecção de tendências:** A notícia apresenta diversas características de fake news, incluindo:\n",
            "    * Sensacionalismo e linguagem alarmista para gerar medo e pânico.\n",
            "    * Teorias da conspiração sem qualquer embasamento.\n",
            "    * Falta de fontes confiáveis para sustentar as alegações.\n",
            "    * Apelo às emoções para disseminar a informação.\n",
            "    * Informações vagas e imprecisas sobre o risco de contaminação.\n",
            "\n",
            "3. **Análise de sentimento:** O tom da notícia é alarmista e sensacionalista, buscando causar impacto e espalhar desinformação, em vez de informar com base em fatos.\n",
            "\n",
            "Em suma, a notícia carece de evidências, utiliza táticas comuns de fake news e possui um viés sensacionalista, tornando-a falsa e potencialmente prejudicial à população. \n",
            "\n"
          ]
        }
      ]
    }
  ]
}